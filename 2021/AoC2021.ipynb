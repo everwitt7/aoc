{
 "cells": [
  {
   "cell_type": "code",
   "execution_count": 3,
   "id": "79954ff6-f6f6-4068-9c31-cd8651c943a6",
   "metadata": {},
   "outputs": [],
   "source": [
    "import re\n",
    "import numpy as np\n",
    "\n",
    "# we are given data in a file format, we need to open the file, read its contents. Each item is separated by some\n",
    "# symbol, generally it is a linebreak sometimes it is two. Then we want to parse the actual text into some format of\n",
    "# data that we can work with, this means we will have to write our own parsing function for each level and pass it\n",
    "# into this function\n",
    "def get_data(day: int, parser=str, sep=\"\\n\") -> list:\n",
    "    with open(f\"./inputs/p{day}.txt\", \"r\") as f:\n",
    "        contents = f.read().strip().split(sep)\n",
    "    return [parser(content) for content in contents]"
   ]
  },
  {
   "cell_type": "markdown",
   "id": "ce64c262-95be-4982-be92-e0ea14fa5556",
   "metadata": {},
   "source": [
    "### Day 1\n",
    "https://adventofcode.com/2021/day/1"
   ]
  },
  {
   "cell_type": "code",
   "execution_count": 13,
   "id": "b7618e72-c2c6-476c-beb5-79a0e0b74970",
   "metadata": {},
   "outputs": [],
   "source": [
    "arr_1 = get_data(1, parser=int)"
   ]
  },
  {
   "cell_type": "code",
   "execution_count": 14,
   "id": "3646855a-8b90-4860-bc66-5f5c87bfda9a",
   "metadata": {},
   "outputs": [
    {
     "data": {
      "text/plain": [
       "1602"
      ]
     },
     "execution_count": 14,
     "metadata": {},
     "output_type": "execute_result"
    }
   ],
   "source": [
    "# Part 1\n",
    "n_inc = 0\n",
    "for i in range(1, len(arr_1)):\n",
    "    if arr_1[i-1] < arr_1[i]:\n",
    "        n_inc += 1\n",
    "n_inc"
   ]
  },
  {
   "cell_type": "code",
   "execution_count": 15,
   "id": "d138c383-18aa-4bea-8bc9-908a71fb4fa7",
   "metadata": {},
   "outputs": [
    {
     "data": {
      "text/plain": [
       "1601"
      ]
     },
     "execution_count": 15,
     "metadata": {},
     "output_type": "execute_result"
    }
   ],
   "source": [
    "# Part 2\n",
    "n_inc = 0\n",
    "for i in range(2, len(arr_1)):\n",
    "    if arr_1[i-1] < arr_1[i]:\n",
    "        n_inc += 1\n",
    "n_inc"
   ]
  },
  {
   "cell_type": "markdown",
   "id": "3be2b4dd-3b12-4b92-8f89-e2ca55bd70ef",
   "metadata": {},
   "source": [
    "### Day 2"
   ]
  },
  {
   "cell_type": "code",
   "execution_count": 16,
   "id": "b6fa9e6c-357e-4728-8344-0c9d013a112e",
   "metadata": {},
   "outputs": [
    {
     "data": {
      "text/plain": [
       "['forward', 5]"
      ]
     },
     "execution_count": 16,
     "metadata": {},
     "output_type": "execute_result"
    }
   ],
   "source": [
    "def parser(content):\n",
    "    k, v = content.split(\" \")\n",
    "    return [k, int(v)]\n",
    "        \n",
    "parser(\"forward 5\")"
   ]
  },
  {
   "cell_type": "code",
   "execution_count": 17,
   "id": "6e0ef69a-d944-442c-80ab-9035d012e7ef",
   "metadata": {},
   "outputs": [],
   "source": [
    "arr_2 = get_data(2, parser=parser)"
   ]
  },
  {
   "cell_type": "code",
   "execution_count": 19,
   "id": "15e5f0c0-57f2-49f2-80cd-dd9ead5c0eb7",
   "metadata": {},
   "outputs": [
    {
     "name": "stdout",
     "output_type": "stream",
     "text": [
      "1980 951 1882980\n"
     ]
    }
   ],
   "source": [
    "# Part 1\n",
    "horz = depth = 0\n",
    "for e in arr_2:\n",
    "    if e[0] == \"forward\":\n",
    "        horz += e[1]\n",
    "    elif e[0] == \"down\":\n",
    "        depth += e[1]\n",
    "    else:\n",
    "        depth -= e[1]\n",
    "print(horz, depth, horz * depth)"
   ]
  },
  {
   "cell_type": "code",
   "execution_count": 20,
   "id": "df1ffc5b-ca68-418d-a056-6d2c4fbd7855",
   "metadata": {},
   "outputs": [
    {
     "name": "stdout",
     "output_type": "stream",
     "text": [
      "1980 995572 1971232560\n"
     ]
    }
   ],
   "source": [
    "# Part 2\n",
    "horz = depth = aim = 0\n",
    "for e in arr_2:\n",
    "    if e[0] == \"forward\":\n",
    "        horz += e[1]\n",
    "        depth += aim * e[1]\n",
    "    elif e[0] == \"down\":\n",
    "        aim += e[1]\n",
    "    else:\n",
    "        aim -= e[1]\n",
    "print(horz, depth, horz * depth)"
   ]
  },
  {
   "cell_type": "markdown",
   "id": "016ccf91-14f5-4f60-ac58-efa1b4ab9ccb",
   "metadata": {},
   "source": [
    "### Day 3"
   ]
  },
  {
   "cell_type": "code",
   "execution_count": 25,
   "id": "29e11f0a-e0ae-49b0-b087-6e92a0c54b5b",
   "metadata": {},
   "outputs": [
    {
     "data": {
      "text/plain": [
       "'100000101101'"
      ]
     },
     "execution_count": 25,
     "metadata": {},
     "output_type": "execute_result"
    }
   ],
   "source": [
    "arr_3 = get_data(3, parser=str)\n",
    "arr_3[0]"
   ]
  },
  {
   "cell_type": "code",
   "execution_count": 26,
   "id": "aa0d4694-a4af-4206-9deb-740e74fe3000",
   "metadata": {},
   "outputs": [
    {
     "name": "stdout",
     "output_type": "stream",
     "text": [
      "1337 2758 3687446\n"
     ]
    }
   ],
   "source": [
    "# Part 1\n",
    "sol = []\n",
    "for c in range(len(arr_3[0])):\n",
    "    bit = 0\n",
    "    for r in range(len(arr_3)):\n",
    "        bit += int(arr_3[r][c]) # iterate over the columns\n",
    "    sol.append(round(bit/len(arr_3) * 2 // 1))\n",
    "\n",
    "power = len(sol) - 1\n",
    "gam = eps = 0\n",
    "for bit in sol:\n",
    "    gam += bit * 2 ** power\n",
    "    eps += (1 - bit) * 2 ** power\n",
    "    power -= 1\n",
    "print(gam, eps, gam * eps)"
   ]
  },
  {
   "cell_type": "code",
   "execution_count": 56,
   "id": "0a56f28d-c3eb-4f1f-ae59-8f256e57c43d",
   "metadata": {},
   "outputs": [
    {
     "name": "stdout",
     "output_type": "stream",
     "text": [
      "['011000111111']\n",
      "['101011000100']\n"
     ]
    }
   ],
   "source": [
    "# 011000111111 1599\n",
    "# 101011000100 2756\n",
    "# 1599 * 2756 = 4406844\n",
    "\n",
    "# Part 2 sorting - it's like doing a binary sort across two indices\n",
    "arr_ox = np.sort(np.array(arr_3))\n",
    "arr_co = np.copy(arr_ox)\n",
    "\n",
    "for col in range(len(arr_ox[0])):\n",
    "    if len(arr_ox) == 1:\n",
    "        break\n",
    "    if len(arr_ox) % 2 == 1:\n",
    "        ox_bit = int(arr_ox[len(arr_ox) // 2][col])\n",
    "        ind_ox = [True if int(x[col]) == ox_bit else False for x in arr_ox]\n",
    "    else:\n",
    "        ox_bit = max(int(arr_ox[len(arr_ox) // 2][col]), int(arr_ox[len(arr_ox) // 2 - 1][col]))\n",
    "        ind_ox = [True if int(x[col]) == ox_bit else False for x in arr_ox]\n",
    "    arr_ox = arr_ox[ind_ox]\n",
    "    \n",
    "print(arr_ox)\n",
    "\n",
    "for col in range(len(arr_co[0])):\n",
    "    if len(arr_co) == 1:\n",
    "        break\n",
    "    if len(arr_co) % 2 == 1:\n",
    "        co_bit = 1 - int(arr_co[len(arr_co) // 2][col])\n",
    "        ind_co = [True if int(x[col]) == co_bit else False for x in arr_co]\n",
    "    else:\n",
    "        co_bit = min(1 - int(arr_co[len(arr_co) // 2][col]), 1 - int(arr_co[len(arr_co) // 2 - 1][col]))\n",
    "        ind_co = [True if int(x[col]) == co_bit else False for x in arr_co]\n",
    "    arr_co = arr_co[ind_co]\n",
    "    \n",
    "print(arr_co)"
   ]
  },
  {
   "cell_type": "markdown",
   "id": "32e5c33c-75c9-4027-a425-c0020a0d3f1b",
   "metadata": {},
   "source": [
    "### Day 4"
   ]
  },
  {
   "cell_type": "code",
   "execution_count": 214,
   "id": "cccd0a0d-3759-445c-a1c6-09ba6251eb29",
   "metadata": {},
   "outputs": [],
   "source": [
    "class Board:\n",
    "    def __init__(self, nums: list[list[int]]):\n",
    "        self.nums = nums\n",
    "        self.blen = len(nums[0])\n",
    "        \n",
    "    def is_win(self):\n",
    "        for i in range(self.blen):\n",
    "            if len(set(self.nums[i, :])) == 1 and self.nums[i][0] == -1:\n",
    "                return True\n",
    "            if len(set(self.nums[:, i])) == 1 and self.nums[0][i] == -1:\n",
    "                return True\n",
    "        return False\n",
    "    \n",
    "    def replace_val(self, val):\n",
    "        r, c = np.where(self.nums == val)\n",
    "        self.nums[r[0], c[0]] = -1\n",
    "    \n",
    "    def contains_val(self, val):\n",
    "        if val in self.nums:\n",
    "            return True\n",
    "        return False\n",
    "    \n",
    "    def calc_score(self, num):\n",
    "        tot = 0\n",
    "        for row in range(self.blen): \n",
    "            for col in range(self.blen): \n",
    "                if self.nums[row][col] != -1:\n",
    "                    tot += self.nums[row][col]\n",
    "        return num * tot\n",
    "        \n",
    "    def __str__(self):\n",
    "        s = \"\"\n",
    "        for i in range(self.blen):\n",
    "            s += f\"{self.nums[i]} \\n\"\n",
    "        s += \"\\n\"\n",
    "        return s\n",
    "\n",
    "    def __repr__(self):\n",
    "        return str(self)\n",
    "\n",
    "        \n",
    "# pop the first line and \\n\\n out of the file\n",
    "def get_data_4():\n",
    "    def parser(content):\n",
    "        content = content.split(\"\\n\")\n",
    "        for i in range(len(content)):\n",
    "            content[i] = [int(e) for e in content[i].split(\" \") if e != '']\n",
    "        return np.array(content)\n",
    "        \n",
    "    with open(\"./inputs/p4.txt\", \"r\") as f:\n",
    "        nums = [int(e) for e in f.readline().strip().split(\",\")]\n",
    "        f.readline() # skip the line so that we begin content with the first board\n",
    "        contents = f.read().strip().split(\"\\n\\n\")\n",
    "                \n",
    "    return nums, [Board(parser(content)) for content in contents]"
   ]
  },
  {
   "cell_type": "code",
   "execution_count": 239,
   "id": "8dd30cbe-4259-48b2-a6f6-77f33c7b9ddc",
   "metadata": {},
   "outputs": [
    {
     "data": {
      "text/plain": [
       "39984"
      ]
     },
     "execution_count": 239,
     "metadata": {},
     "output_type": "execute_result"
    }
   ],
   "source": [
    "# Part 1\n",
    "len_board = 5\n",
    "def get_winner():\n",
    "    nums, boards = get_data_4()\n",
    "    for num in nums:\n",
    "        for board in boards:\n",
    "            if board.contains_val(num):\n",
    "                board.replace_val(num)\n",
    "                if board.is_win():\n",
    "                    return board.calc_score(num)\n",
    "    return -1\n",
    "\n",
    "sol = get_winner()\n",
    "sol"
   ]
  },
  {
   "cell_type": "code",
   "execution_count": 277,
   "id": "ab08140d-7b44-484b-b28d-defdf15f070e",
   "metadata": {},
   "outputs": [
    {
     "data": {
      "text/plain": [
       "8468"
      ]
     },
     "execution_count": 277,
     "metadata": {},
     "output_type": "execute_result"
    }
   ],
   "source": [
    "# Part 2\n",
    "def get_loser():\n",
    "    nums, boards = get_data_4()\n",
    "    for num in nums:\n",
    "        for i in range(len(boards)-1, -1, -1):\n",
    "            if boards[i].contains_val(num):\n",
    "                boards[i].replace_val(num)\n",
    "                if boards[i].is_win():\n",
    "                    if len(boards) == 1:\n",
    "                        return boards[0].calc_score(num)\n",
    "                    del boards[i]\n",
    "    return -1\n",
    "\n",
    "sol = get_loser()\n",
    "sol\n",
    "\n",
    "# takeaway... use numpy arrays... they are so useful for column comparisons!"
   ]
  },
  {
   "cell_type": "markdown",
   "id": "297c810f-7b5e-462a-9555-c1ec82c5a793",
   "metadata": {},
   "source": [
    "### Day 5"
   ]
  },
  {
   "cell_type": "code",
   "execution_count": 33,
   "id": "fadd7caa-033e-4feb-bd84-bcafe4d4067a",
   "metadata": {},
   "outputs": [
    {
     "name": "stdout",
     "output_type": "stream",
     "text": [
      "[409, 872, 409, 963]\n"
     ]
    }
   ],
   "source": [
    "def parser(content):\n",
    "    regex = \",| -> |\\+\" # matches exactly a comma OR a space arrow space\n",
    "    return [int(coord) for coord in re.split(regex, content)]\n",
    "    \n",
    "print(parser(\"409,872 -> 409,963\"))\n",
    "arr = get_data(5, parser=parser)"
   ]
  },
  {
   "cell_type": "code",
   "execution_count": 111,
   "id": "fc0ff097-2c05-457b-953d-d340e5472a4e",
   "metadata": {},
   "outputs": [
    {
     "data": {
      "text/plain": [
       "7436"
      ]
     },
     "execution_count": 111,
     "metadata": {},
     "output_type": "execute_result"
    }
   ],
   "source": [
    "# Part 1\n",
    "dim = 1000\n",
    "sol = np.zeros((dim, dim), dtype=np.int64)\n",
    "\n",
    "for line in arr:\n",
    "    x1, x2 = min(line[0], line[2]), max(line[0], line[2])\n",
    "    y1, y2 = min(line[1], line[3]), max(line[1], line[3])\n",
    "        \n",
    "    # vertical line\n",
    "    if x1 == x2:\n",
    "        for y in range(y1, y2+1):\n",
    "            sol[x1,y] += 1\n",
    "    \n",
    "    # horizontal line\n",
    "    elif y1 == y2:\n",
    "        for x in range(x1, x2+1):\n",
    "            sol[x,y1] += 1\n",
    "\n",
    "np.count_nonzero(sol > 1)"
   ]
  },
  {
   "cell_type": "code",
   "execution_count": 118,
   "id": "79d88f3b-f6bb-4558-b6e7-6700c75136c3",
   "metadata": {},
   "outputs": [
    {
     "data": {
      "text/plain": [
       "21104"
      ]
     },
     "execution_count": 118,
     "metadata": {},
     "output_type": "execute_result"
    }
   ],
   "source": [
    "# Part 2\n",
    "dim = 1000\n",
    "sol = np.zeros((dim, dim), dtype=np.int64)\n",
    "\n",
    "for line in arr:\n",
    "    x1, x2 = line[0], line[2]\n",
    "    y1, y2 = line[1], line[3]\n",
    "        \n",
    "    # vertical line\n",
    "    if x1 == x2:\n",
    "        y1, y2 = min(line[1], line[3]), max(line[1], line[3])\n",
    "        for y in range(y1, y2+1):\n",
    "            sol[x1, y] += 1\n",
    "    \n",
    "    # horizontal line\n",
    "    elif y1 == y2:\n",
    "        x1, x2 = min(line[0], line[2]), max(line[0], line[2])\n",
    "        for x in range(x1, x2+1):\n",
    "            sol[x, y1] += 1\n",
    "            \n",
    "    # diagonal line\n",
    "    else:\n",
    "        x_slope = 1 if x1 < x2 else -1\n",
    "        y_slope = 1 if y1 < y2 else -1\n",
    "        r = max(x1, x2) - min(x1, x2)\n",
    "        for i in range(r+1):\n",
    "            x_ind = x1 + i * x_slope\n",
    "            y_ind = y1 + i * y_slope\n",
    "            sol[x_ind, y_ind] += 1\n",
    "                \n",
    "np.count_nonzero(sol > 1)\n",
    "\n",
    "# I was rather careless initially not checking if the range was increasing or decreasing and then in the second part\n",
    "# not checking if the line was increasing or decreasing, I was way too frusturated on a rather simple accumulation problem"
   ]
  },
  {
   "cell_type": "markdown",
   "id": "87b547b8-151a-4496-8036-c72d209224ed",
   "metadata": {},
   "source": [
    "### Day 6"
   ]
  },
  {
   "cell_type": "code",
   "execution_count": 26,
   "id": "023aaf97-dadf-4505-9f64-3dd817490adb",
   "metadata": {},
   "outputs": [],
   "source": [
    "with open(f\"./inputs/p6.txt\", \"r\") as f:\n",
    "    arr = [int(i) for i in f.read().strip().split(\",\")]"
   ]
  },
  {
   "cell_type": "code",
   "execution_count": 6,
   "id": "6d66848d-b1de-426d-b5f5-3de42b71f907",
   "metadata": {},
   "outputs": [
    {
     "data": {
      "text/plain": [
       "394994"
      ]
     },
     "execution_count": 6,
     "metadata": {},
     "output_type": "execute_result"
    }
   ],
   "source": [
    "# Part 1 => d=80\n",
    "days = 80\n",
    "for _ in range(days):\n",
    "    # we want to keep this range fixed if we are appending to the list\n",
    "    for i in range(len(arr)):\n",
    "        arr[i] -= 1\n",
    "        if arr[i] < 0:\n",
    "            arr[i] = 6\n",
    "            arr.append(8)\n",
    "len(arr)\n",
    "# reset arr..."
   ]
  },
  {
   "cell_type": "code",
   "execution_count": 24,
   "id": "37d2d409-e2dd-4b01-b2c4-f33d5f5386ff",
   "metadata": {},
   "outputs": [],
   "source": [
    "# old fish 6 days to spawn new fish, new fish 8 days\n",
    "samp = [1,3,5,1]\n",
    "ds = 50\n",
    "\n",
    "\"\"\"\n",
    "f(d, n) where n is time until spawn, and d is days left\n",
    "we can create a lookup table of n=8 and d=80\n",
    "\n",
    "days=> 8, 6, 6, 6, 6\n",
    "\n",
    "f(64, 4) => f(60, 8) + f(60, 6) + 1\n",
    "\n",
    "f(d, n) => f(d-n, 8) + f(d-n, 6) + 1\n",
    "We get a new fish (8 days) and the current fish resets (6) and we add 1 to the total\n",
    "f(d, n) = 0 if d <= n\n",
    "\n",
    "if d > n:\n",
    "    compute new fish\n",
    "else:\n",
    "    return\n",
    "\n",
    "How can we prevent ourselves from computing f(60, 8) twice... there will be another starting fish that has to compute this same value.\n",
    "\n",
    "We can work backwards and fill the table? Iterate through D and N, put value for number of fish that are created.\n",
    "\n",
    "Select d,n for each element in the input and sum them together!\n",
    "\"\"\"\n",
    "acc = []\n",
    "def calc_fish(d, n, acc):\n",
    "    if d > n:\n",
    "        acc.append(1)\n",
    "        # print(d, n, acc)\n",
    "        calc_fish(d-n, 8, acc) + calc_fish(d-n, 6, acc)\n",
    "    return acc"
   ]
  },
  {
   "cell_type": "code",
   "execution_count": 27,
   "id": "515b1ea4-71db-401c-a63f-b25b1090b5a2",
   "metadata": {},
   "outputs": [
    {
     "name": "stdout",
     "output_type": "stream",
     "text": [
      "Total lanternfish after 256 days: 1765974267455\n"
     ]
    }
   ],
   "source": [
    "##########\n",
    "# REVIEW #\n",
    "##########\n",
    "\n",
    "# Part 2\n",
    "days = [0] * 9\n",
    "# Update the current numbers\n",
    "for fish in arr:\n",
    "    days[fish] += 1\n",
    "for i in range(256):\n",
    "    # To make it cyclic: 0, 1, 2, 3, 4, 5, 6, 7, 8    \n",
    "    today = i % len(days)\n",
    "    # Add new babies\n",
    "    days[(today + 7) % len(days)] += days[today]\n",
    "print(f'Total lanternfish after 256 days: {sum(days)}')"
   ]
  }
 ],
 "metadata": {
  "kernelspec": {
   "display_name": "Python (adventofcode)",
   "language": "python",
   "name": "adventofcode"
  },
  "language_info": {
   "codemirror_mode": {
    "name": "ipython",
    "version": 3
   },
   "file_extension": ".py",
   "mimetype": "text/x-python",
   "name": "python",
   "nbconvert_exporter": "python",
   "pygments_lexer": "ipython3",
   "version": "3.9.7"
  }
 },
 "nbformat": 4,
 "nbformat_minor": 5
}
